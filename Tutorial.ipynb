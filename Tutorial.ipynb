{
 "cells": [
  {
   "cell_type": "code",
   "execution_count": 1,
   "metadata": {},
   "outputs": [],
   "source": [
    "#paths\n",
    "WORKSPACE_PATH = 'Tensorflow/workspace'\n",
    "SCRIPTS_PATH = 'Tensorflow/scripts'\n",
    "APIMODEL_PATH = 'Tensorflow/models'\n",
    "ANNOTATION_PATH = WORKSPACE_PATH+'/annotations'\n",
    "IMAGE_PATH = WORKSPACE_PATH+'/images'\n",
    "MODEL_PATH = WORKSPACE_PATH+'/models'\n",
    "PRETRAINED_MODEL_PATH = WORKSPACE_PATH+'/pre-trained-models'\n",
    "CONFIG_PATH = MODEL_PATH+'/my_ssd_mobnet/pipeline.config'\n",
    "CHECKPOINT_PATH = MODEL_PATH+'/my_ssd_mobnet/'"
   ]
  },
  {
   "cell_type": "code",
   "execution_count": 2,
   "metadata": {},
   "outputs": [],
   "source": [
    "#Create Label Map\n",
    "labels = [{'name':'Hello', 'id':1},\n",
    "          {'name':'Yes', 'id':2},\n",
    "          {'name':'No', 'id':3},\n",
    "          {'name':'Thanks', 'id':4},\n",
    "          {'name':'I Love You', 'id':5}]\n",
    "\n",
    "with open(ANNOTATION_PATH + '\\label_map.pbtxt', 'w') as f:\n",
    "    for label in labels:\n",
    "        f.write('item { \\n')\n",
    "        f.write('\\tname:\\'{}\\'\\n'.format(label['name']))\n",
    "        f.write('\\tid:{}\\n'.format(label['id']))\n",
    "        f.write('}\\n')"
   ]
  },
  {
   "cell_type": "code",
   "execution_count": 3,
   "metadata": {},
   "outputs": [],
   "source": [
    "# import os\n",
    "# #generate_tfrecord.py\n",
    "# !python {SCRIPTS_PATH + '/generate_tfrecord.py'} -x {IMAGE_PATH + '/train'} -l {ANNOTATION_PATH + '/label_map.pbtxt'} -o {ANNOTATION_PATH + '/train.record'}\n",
    "# !python {SCRIPTS_PATH + '/generate_tfrecord.py'} -x{IMAGE_PATH + '/test'} -l {ANNOTATION_PATH + '/label_map.pbtxt'} -o {ANNOTATION_PATH + '/test.record'}"
   ]
  },
  {
   "cell_type": "code",
   "execution_count": 3,
   "metadata": {},
   "outputs": [
    {
     "name": "stderr",
     "output_type": "stream",
     "text": [
      "fatal: destination path 'models' already exists and is not an empty directory.\n"
     ]
    }
   ],
   "source": [
    "#Download TF Models Pretrained Models from Tensorflow Model Zoo\n",
    "!cd Tensorflow && git clone https://github.com/tensorflow/models\n",
    "#import tensorflow as tf\n",
    "#print(tf.__version__)"
   ]
  },
  {
   "cell_type": "code",
   "execution_count": 5,
   "metadata": {},
   "outputs": [],
   "source": [
    "#wget.download('http://download.tensorflow.org/models/object_detection/tf2/20200711/ssd_mobilenet_v2_fpnlite_320x320_coco17_tpu-8.tar.gz')\n",
    "#!mv ssd_mobilenet_v2_fpnlite_320x320_coco17_tpu-8.tar.gz {PRETRAINED_MODEL_PATH}\n",
    "#!cd {PRETRAINED_MODEL_PATH} && tar -zxvf ssd_mobilenet_v2_fpnlite_320x320_coco17_tpu-8.tar.gz"
   ]
  },
  {
   "cell_type": "code",
   "execution_count": 4,
   "metadata": {},
   "outputs": [],
   "source": [
    "#Copy Model Config to Training Folder\n",
    "CUSTOM_MODEL_NAME = 'my_ssd_mobnet' "
   ]
  },
  {
   "cell_type": "code",
   "execution_count": 5,
   "metadata": {},
   "outputs": [
    {
     "name": "stderr",
     "output_type": "stream",
     "text": [
      "A subdirectory or file Tensorflow\\workspace\\models\\my_ssd_mobnet already exists.\n"
     ]
    },
    {
     "name": "stdout",
     "output_type": "stream",
     "text": [
      "        0 file(s) copied.\n"
     ]
    },
    {
     "name": "stderr",
     "output_type": "stream",
     "text": [
      "The system cannot find the file specified.\n"
     ]
    }
   ],
   "source": [
    "!mkdir {'Tensorflow\\workspace\\models\\\\'+CUSTOM_MODEL_NAME}\n",
    "!copy \"{PRETRAINED_MODEL_PATH+'/ssd_mobilenet_v2_fpnlite_320x320_coco17_tpu-8/pipeline.config'}\"  \"{MODEL_PATH+'/'+CUSTOM_MODEL_NAME}\"\n"
   ]
  },
  {
   "cell_type": "code",
   "execution_count": 6,
   "metadata": {},
   "outputs": [],
   "source": [
    "#Update Config For Transfer Learning\n",
    "import tensorflow as tf\n",
    "from object_detection.utils import config_util\n",
    "from object_detection.protos import pipeline_pb2\n",
    "from google.protobuf import text_format"
   ]
  },
  {
   "cell_type": "code",
   "execution_count": 7,
   "metadata": {},
   "outputs": [],
   "source": [
    "CONFIG_PATH = MODEL_PATH+'/'+CUSTOM_MODEL_NAME+'/pipeline.config'"
   ]
  },
  {
   "cell_type": "code",
   "execution_count": 8,
   "metadata": {},
   "outputs": [],
   "source": [
    "config = config_util.get_configs_from_pipeline_file(CONFIG_PATH)"
   ]
  },
  {
   "cell_type": "code",
   "execution_count": 9,
   "metadata": {},
   "outputs": [],
   "source": [
    "pipeline_config = pipeline_pb2.TrainEvalPipelineConfig()\n",
    "with tf.io.gfile.GFile(CONFIG_PATH, \"r\") as f:                                                                                                                                                                                                                     \n",
    "    proto_str = f.read()                                                                                                                                                                                                                                          \n",
    "    text_format.Merge(proto_str, pipeline_config)  "
   ]
  },
  {
   "cell_type": "code",
   "execution_count": 10,
   "metadata": {},
   "outputs": [],
   "source": [
    "pipeline_config.model.ssd.num_classes = 5\n",
    "pipeline_config.train_config.batch_size = 4\n",
    "pipeline_config.train_config.fine_tune_checkpoint = PRETRAINED_MODEL_PATH+'/ssd_mobilenet_v2_fpnlite_320x320_coco17_tpu-8/checkpoint/ckpt-0'\n",
    "pipeline_config.train_config.fine_tune_checkpoint_type = \"detection\"\n",
    "pipeline_config.train_input_reader.label_map_path= ANNOTATION_PATH + '/label_map.pbtxt'\n",
    "pipeline_config.train_input_reader.tf_record_input_reader.input_path[:] = [ANNOTATION_PATH + '/train.record']\n",
    "pipeline_config.eval_input_reader[0].label_map_path = ANNOTATION_PATH + '/label_map.pbtxt'\n",
    "pipeline_config.eval_input_reader[0].tf_record_input_reader.input_path[:] = [ANNOTATION_PATH + '/test.record']"
   ]
  },
  {
   "cell_type": "code",
   "execution_count": 11,
   "metadata": {},
   "outputs": [],
   "source": [
    "config_text = text_format.MessageToString(pipeline_config)                                                                                                                                                                                                        \n",
    "with tf.io.gfile.GFile(CONFIG_PATH, \"wb\") as f:                                                                                                                                                                                                                     \n",
    "    f.write(config_text)   "
   ]
  },
  {
   "cell_type": "code",
   "execution_count": 12,
   "metadata": {},
   "outputs": [
    {
     "name": "stdout",
     "output_type": "stream",
     "text": [
      "python Tensorflow/models/research/object_detection/model_main_tf2.py --model_dir=Tensorflow/workspace/models/my_ssd_mobnet --pipeline_config_path=Tensorflow/workspace/models/my_ssd_mobnet/pipeline.config --num_train_steps=10000\n"
     ]
    }
   ],
   "source": [
    "#Train the model\n",
    "print(\"\"\"python {}/research/object_detection/model_main_tf2.py --model_dir={}/{} --pipeline_config_path={}/{}/pipeline.config --num_train_steps=10000\"\"\".format(APIMODEL_PATH, MODEL_PATH,CUSTOM_MODEL_NAME,MODEL_PATH,CUSTOM_MODEL_NAME))"
   ]
  },
  {
   "cell_type": "code",
   "execution_count": 13,
   "metadata": {},
   "outputs": [],
   "source": [
    "#Load Train Model From Checkpoint\n",
    "import os\n",
    "from object_detection.utils import label_map_util\n",
    "from object_detection.utils import visualization_utils as viz_utils\n",
    "from object_detection.builders import model_builder"
   ]
  },
  {
   "cell_type": "code",
   "execution_count": 14,
   "metadata": {},
   "outputs": [],
   "source": [
    "# Load pipeline config and build a detection model\n",
    "\n",
    "configs = config_util.get_configs_from_pipeline_file(CONFIG_PATH)\n",
    "detection_model = model_builder.build(model_config=configs['model'], is_training=True)\n",
    "\n",
    "# Restore checkpoint fine_tune_checkpoint_version: V2\n",
    "ckpt = tf.compat.v2.train.Checkpoint(model=detection_model)\n",
    "ckpt.restore(os.path.join(CHECKPOINT_PATH, 'ckpt-11')).expect_partial()\n",
    "\n",
    "@tf.function\n",
    "def detect_fn(image):\n",
    "    image, shapes = detection_model.preprocess(image)\n",
    "    prediction_dict = detection_model.predict(image, shapes)\n",
    "    detections = detection_model.postprocess(prediction_dict, shapes)\n",
    "    return detections"
   ]
  },
  {
   "cell_type": "code",
   "execution_count": 15,
   "metadata": {},
   "outputs": [],
   "source": [
    "#Detect in Real-Time\n",
    "import cv2 \n",
    "import numpy as np"
   ]
  },
  {
   "cell_type": "code",
   "execution_count": 16,
   "metadata": {},
   "outputs": [],
   "source": [
    "category_index = label_map_util.create_category_index_from_labelmap(ANNOTATION_PATH+'/label_map.pbtxt')"
   ]
  },
  {
   "cell_type": "code",
   "execution_count": 17,
   "metadata": {},
   "outputs": [],
   "source": [
    "# Setup capture\n",
    "cap = cv2.VideoCapture(0)\n",
    "width = int(cap.get(cv2.CAP_PROP_FRAME_WIDTH))\n",
    "height = int(cap.get(cv2.CAP_PROP_FRAME_HEIGHT))"
   ]
  },
  {
   "cell_type": "code",
   "execution_count": 18,
   "metadata": {},
   "outputs": [
    {
     "ename": "ValueError",
     "evalue": "in user code:\n\n    File \"C:\\Users\\Harsha\\AppData\\Local\\Temp\\ipykernel_21084\\1511866559.py\", line 12, in detect_fn  *\n        image, shapes = detection_model.preprocess(image)\n    File \"c:\\Users\\Harsha\\Anaconda3\\envs\\min\\lib\\site-packages\\object_detection\\meta_architectures\\ssd_meta_arch.py\", line 484, in preprocess  *\n        normalized_inputs, self._image_resizer_fn)\n    File \"c:\\Users\\Harsha\\Anaconda3\\envs\\min\\lib\\site-packages\\object_detection\\utils\\shape_utils.py\", line 492, in resize_images_and_return_shapes  *\n        outputs = static_or_dynamic_map_fn(\n    File \"c:\\Users\\Harsha\\Anaconda3\\envs\\min\\lib\\site-packages\\object_detection\\utils\\shape_utils.py\", line 246, in static_or_dynamic_map_fn  *\n        outputs = [fn(arg) for arg in tf.unstack(elems)]\n    File \"c:\\Users\\Harsha\\Anaconda3\\envs\\min\\lib\\site-packages\\object_detection\\core\\preprocessor.py\", line 3327, in resize_image  *\n        new_image = tf.image.resize_images(\n\n    ValueError: 'images' must have either 3 or 4 dimensions.\n",
     "output_type": "error",
     "traceback": [
      "\u001b[1;31m---------------------------------------------------------------------------\u001b[0m",
      "\u001b[1;31mValueError\u001b[0m                                Traceback (most recent call last)",
      "\u001b[1;32me:\\RealTimeObjectDetection\\Tutorial.ipynb Cell 20\u001b[0m in \u001b[0;36m<cell line: 1>\u001b[1;34m()\u001b[0m\n\u001b[0;32m      <a href='vscode-notebook-cell:/e%3A/RealTimeObjectDetection/Tutorial.ipynb#X25sZmlsZQ%3D%3D?line=2'>3</a>\u001b[0m image_np \u001b[39m=\u001b[39m np\u001b[39m.\u001b[39marray(frame)\n\u001b[0;32m      <a href='vscode-notebook-cell:/e%3A/RealTimeObjectDetection/Tutorial.ipynb#X25sZmlsZQ%3D%3D?line=4'>5</a>\u001b[0m input_tensor \u001b[39m=\u001b[39m tf\u001b[39m.\u001b[39mconvert_to_tensor(np\u001b[39m.\u001b[39mexpand_dims(image_np, \u001b[39m0\u001b[39m), dtype\u001b[39m=\u001b[39mtf\u001b[39m.\u001b[39mfloat32)\n\u001b[1;32m----> <a href='vscode-notebook-cell:/e%3A/RealTimeObjectDetection/Tutorial.ipynb#X25sZmlsZQ%3D%3D?line=5'>6</a>\u001b[0m detections \u001b[39m=\u001b[39m detect_fn(input_tensor)\n\u001b[0;32m      <a href='vscode-notebook-cell:/e%3A/RealTimeObjectDetection/Tutorial.ipynb#X25sZmlsZQ%3D%3D?line=7'>8</a>\u001b[0m num_detections \u001b[39m=\u001b[39m \u001b[39mint\u001b[39m(detections\u001b[39m.\u001b[39mpop(\u001b[39m'\u001b[39m\u001b[39mnum_detections\u001b[39m\u001b[39m'\u001b[39m))\n\u001b[0;32m      <a href='vscode-notebook-cell:/e%3A/RealTimeObjectDetection/Tutorial.ipynb#X25sZmlsZQ%3D%3D?line=8'>9</a>\u001b[0m detections \u001b[39m=\u001b[39m {key: value[\u001b[39m0\u001b[39m, :num_detections]\u001b[39m.\u001b[39mnumpy()\n\u001b[0;32m     <a href='vscode-notebook-cell:/e%3A/RealTimeObjectDetection/Tutorial.ipynb#X25sZmlsZQ%3D%3D?line=9'>10</a>\u001b[0m               \u001b[39mfor\u001b[39;00m key, value \u001b[39min\u001b[39;00m detections\u001b[39m.\u001b[39mitems()}\n",
      "File \u001b[1;32mc:\\Users\\Harsha\\Anaconda3\\envs\\min\\lib\\site-packages\\tensorflow\\python\\util\\traceback_utils.py:153\u001b[0m, in \u001b[0;36mfilter_traceback.<locals>.error_handler\u001b[1;34m(*args, **kwargs)\u001b[0m\n\u001b[0;32m    151\u001b[0m \u001b[39mexcept\u001b[39;00m \u001b[39mException\u001b[39;00m \u001b[39mas\u001b[39;00m e:\n\u001b[0;32m    152\u001b[0m   filtered_tb \u001b[39m=\u001b[39m _process_traceback_frames(e\u001b[39m.\u001b[39m__traceback__)\n\u001b[1;32m--> 153\u001b[0m   \u001b[39mraise\u001b[39;00m e\u001b[39m.\u001b[39mwith_traceback(filtered_tb) \u001b[39mfrom\u001b[39;00m \u001b[39mNone\u001b[39m\n\u001b[0;32m    154\u001b[0m \u001b[39mfinally\u001b[39;00m:\n\u001b[0;32m    155\u001b[0m   \u001b[39mdel\u001b[39;00m filtered_tb\n",
      "File \u001b[1;32m~\\AppData\\Local\\Temp\\__autograph_generated_file0jty59fc.py:10\u001b[0m, in \u001b[0;36mouter_factory.<locals>.inner_factory.<locals>.tf__detect_fn\u001b[1;34m(image)\u001b[0m\n\u001b[0;32m      8\u001b[0m do_return \u001b[39m=\u001b[39m \u001b[39mFalse\u001b[39;00m\n\u001b[0;32m      9\u001b[0m retval_ \u001b[39m=\u001b[39m ag__\u001b[39m.\u001b[39mUndefinedReturnValue()\n\u001b[1;32m---> 10\u001b[0m (image, shapes) \u001b[39m=\u001b[39m ag__\u001b[39m.\u001b[39;49mconverted_call(ag__\u001b[39m.\u001b[39;49mld(detection_model)\u001b[39m.\u001b[39;49mpreprocess, (ag__\u001b[39m.\u001b[39;49mld(image),), \u001b[39mNone\u001b[39;49;00m, fscope)\n\u001b[0;32m     11\u001b[0m prediction_dict \u001b[39m=\u001b[39m ag__\u001b[39m.\u001b[39mconverted_call(ag__\u001b[39m.\u001b[39mld(detection_model)\u001b[39m.\u001b[39mpredict, (ag__\u001b[39m.\u001b[39mld(image), ag__\u001b[39m.\u001b[39mld(shapes)), \u001b[39mNone\u001b[39;00m, fscope)\n\u001b[0;32m     12\u001b[0m detections \u001b[39m=\u001b[39m ag__\u001b[39m.\u001b[39mconverted_call(ag__\u001b[39m.\u001b[39mld(detection_model)\u001b[39m.\u001b[39mpostprocess, (ag__\u001b[39m.\u001b[39mld(prediction_dict), ag__\u001b[39m.\u001b[39mld(shapes)), \u001b[39mNone\u001b[39;00m, fscope)\n",
      "File \u001b[1;32m~\\AppData\\Local\\Temp\\__autograph_generated_fileirue5cwn.py:35\u001b[0m, in \u001b[0;36mouter_factory.<locals>.inner_factory.<locals>.tf__preprocess\u001b[1;34m(self, inputs)\u001b[0m\n\u001b[0;32m     33\u001b[0m \u001b[39mtry\u001b[39;00m:\n\u001b[0;32m     34\u001b[0m     do_return \u001b[39m=\u001b[39m \u001b[39mTrue\u001b[39;00m\n\u001b[1;32m---> 35\u001b[0m     retval_ \u001b[39m=\u001b[39m ag__\u001b[39m.\u001b[39mconverted_call(ag__\u001b[39m.\u001b[39mld(shape_utils)\u001b[39m.\u001b[39mresize_images_and_return_shapes, (ag__\u001b[39m.\u001b[39mld(normalized_inputs), ag__\u001b[39m.\u001b[39mld(\u001b[39mself\u001b[39m)\u001b[39m.\u001b[39m_image_resizer_fn), \u001b[39mNone\u001b[39;00m, fscope)\n\u001b[0;32m     36\u001b[0m \u001b[39mexcept\u001b[39;00m:\n\u001b[0;32m     37\u001b[0m     do_return \u001b[39m=\u001b[39m \u001b[39mFalse\u001b[39;00m\n",
      "File \u001b[1;32m~\\AppData\\Local\\Temp\\__autograph_generated_filei_kqwwks.py:37\u001b[0m, in \u001b[0;36mouter_factory.<locals>.inner_factory.<locals>.tf__resize_images_and_return_shapes\u001b[1;34m(inputs, image_resizer_fn)\u001b[0m\n\u001b[0;32m     35\u001b[0m     \u001b[39mpass\u001b[39;00m\n\u001b[0;32m     36\u001b[0m ag__\u001b[39m.\u001b[39mif_stmt(ag__\u001b[39m.\u001b[39mld(inputs)\u001b[39m.\u001b[39mdtype \u001b[39mis\u001b[39;00m \u001b[39mnot\u001b[39;00m ag__\u001b[39m.\u001b[39mld(tf)\u001b[39m.\u001b[39mfloat32, if_body, else_body, get_state, set_state, (), \u001b[39m0\u001b[39m)\n\u001b[1;32m---> 37\u001b[0m outputs \u001b[39m=\u001b[39m ag__\u001b[39m.\u001b[39;49mconverted_call(ag__\u001b[39m.\u001b[39;49mld(static_or_dynamic_map_fn), (ag__\u001b[39m.\u001b[39;49mld(image_resizer_fn),), \u001b[39mdict\u001b[39;49m(elems\u001b[39m=\u001b[39;49mag__\u001b[39m.\u001b[39;49mld(inputs), dtype\u001b[39m=\u001b[39;49m[ag__\u001b[39m.\u001b[39;49mld(tf)\u001b[39m.\u001b[39;49mfloat32, ag__\u001b[39m.\u001b[39;49mld(tf)\u001b[39m.\u001b[39;49mint32]), fscope)\n\u001b[0;32m     38\u001b[0m resized_inputs \u001b[39m=\u001b[39m ag__\u001b[39m.\u001b[39mld(outputs)[\u001b[39m0\u001b[39m]\n\u001b[0;32m     39\u001b[0m true_image_shapes \u001b[39m=\u001b[39m ag__\u001b[39m.\u001b[39mld(outputs)[\u001b[39m1\u001b[39m]\n",
      "File \u001b[1;32m~\\AppData\\Local\\Temp\\__autograph_generated_filefh2ip0vq.py:186\u001b[0m, in \u001b[0;36mouter_factory.<locals>.inner_factory.<locals>.tf__static_or_dynamic_map_fn\u001b[1;34m(fn, elems, dtype, parallel_iterations, back_prop)\u001b[0m\n\u001b[0;32m    184\u001b[0m elem \u001b[39m=\u001b[39m ag__\u001b[39m.\u001b[39mUndefined(\u001b[39m'\u001b[39m\u001b[39melem\u001b[39m\u001b[39m'\u001b[39m)\n\u001b[0;32m    185\u001b[0m arg_tuples \u001b[39m=\u001b[39m ag__\u001b[39m.\u001b[39mUndefined(\u001b[39m'\u001b[39m\u001b[39marg_tuples\u001b[39m\u001b[39m'\u001b[39m)\n\u001b[1;32m--> 186\u001b[0m ag__\u001b[39m.\u001b[39;49mif_stmt(ag__\u001b[39m.\u001b[39;49mconverted_call(ag__\u001b[39m.\u001b[39;49mld(\u001b[39misinstance\u001b[39;49m), (ag__\u001b[39m.\u001b[39;49mld(elems), ag__\u001b[39m.\u001b[39;49mld(\u001b[39mlist\u001b[39;49m)), \u001b[39mNone\u001b[39;49;00m, fscope), if_body_5, else_body_5, get_state_7, set_state_7, (\u001b[39m'\u001b[39;49m\u001b[39mdo_return\u001b[39;49m\u001b[39m'\u001b[39;49m, \u001b[39m'\u001b[39;49m\u001b[39moutputs\u001b[39;49m\u001b[39m'\u001b[39;49m, \u001b[39m'\u001b[39;49m\u001b[39mretval_\u001b[39;49m\u001b[39m'\u001b[39;49m), \u001b[39m3\u001b[39;49m)\n\u001b[0;32m    188\u001b[0m \u001b[39mdef\u001b[39;00m \u001b[39mget_state_12\u001b[39m():\n\u001b[0;32m    189\u001b[0m     \u001b[39mreturn\u001b[39;00m (do_return, retval_)\n",
      "File \u001b[1;32m~\\AppData\\Local\\Temp\\__autograph_generated_filefh2ip0vq.py:179\u001b[0m, in \u001b[0;36mouter_factory.<locals>.inner_factory.<locals>.tf__static_or_dynamic_map_fn.<locals>.else_body_5\u001b[1;34m()\u001b[0m\n\u001b[0;32m    177\u001b[0m     outputs \u001b[39m=\u001b[39m [ag__\u001b[39m.\u001b[39mconverted_call(ag__\u001b[39m.\u001b[39mld(fn), (ag__\u001b[39m.\u001b[39mld(arg),), \u001b[39mNone\u001b[39;00m, fscope) \u001b[39mfor\u001b[39;00m arg \u001b[39min\u001b[39;00m ag__\u001b[39m.\u001b[39mconverted_call(ag__\u001b[39m.\u001b[39mld(tf)\u001b[39m.\u001b[39munstack, (ag__\u001b[39m.\u001b[39mld(elems),), \u001b[39mNone\u001b[39;00m, fscope)]\n\u001b[0;32m    178\u001b[0m outputs \u001b[39m=\u001b[39m ag__\u001b[39m.\u001b[39mUndefined(\u001b[39m'\u001b[39m\u001b[39moutputs\u001b[39m\u001b[39m'\u001b[39m)\n\u001b[1;32m--> 179\u001b[0m ag__\u001b[39m.\u001b[39;49mif_stmt(ag__\u001b[39m.\u001b[39;49mor_(\u001b[39mlambda\u001b[39;49;00m : ag__\u001b[39m.\u001b[39;49mnot_(ag__\u001b[39m.\u001b[39;49mld(elems_shape)), \u001b[39mlambda\u001b[39;49;00m : ag__\u001b[39m.\u001b[39;49mnot_(ag__\u001b[39m.\u001b[39;49mld(elems_shape)[\u001b[39m0\u001b[39;49m])), if_body_4, else_body_4, get_state_6, set_state_6, (\u001b[39m'\u001b[39;49m\u001b[39mdo_return\u001b[39;49m\u001b[39m'\u001b[39;49m, \u001b[39m'\u001b[39;49m\u001b[39moutputs\u001b[39;49m\u001b[39m'\u001b[39;49m, \u001b[39m'\u001b[39;49m\u001b[39mretval_\u001b[39;49m\u001b[39m'\u001b[39;49m), \u001b[39m3\u001b[39;49m)\n",
      "File \u001b[1;32m~\\AppData\\Local\\Temp\\__autograph_generated_filefh2ip0vq.py:177\u001b[0m, in \u001b[0;36mouter_factory.<locals>.inner_factory.<locals>.tf__static_or_dynamic_map_fn.<locals>.else_body_5.<locals>.else_body_4\u001b[1;34m()\u001b[0m\n\u001b[0;32m    175\u001b[0m \u001b[39mdef\u001b[39;00m \u001b[39melse_body_4\u001b[39m():\n\u001b[0;32m    176\u001b[0m     \u001b[39mnonlocal\u001b[39;00m do_return, outputs, retval_\n\u001b[1;32m--> 177\u001b[0m     outputs \u001b[39m=\u001b[39m [ag__\u001b[39m.\u001b[39mconverted_call(ag__\u001b[39m.\u001b[39mld(fn), (ag__\u001b[39m.\u001b[39mld(arg),), \u001b[39mNone\u001b[39;00m, fscope) \u001b[39mfor\u001b[39;00m arg \u001b[39min\u001b[39;00m ag__\u001b[39m.\u001b[39mconverted_call(ag__\u001b[39m.\u001b[39mld(tf)\u001b[39m.\u001b[39munstack, (ag__\u001b[39m.\u001b[39mld(elems),), \u001b[39mNone\u001b[39;00m, fscope)]\n",
      "File \u001b[1;32m~\\AppData\\Local\\Temp\\__autograph_generated_filefh2ip0vq.py:177\u001b[0m, in \u001b[0;36m<listcomp>\u001b[1;34m(.0)\u001b[0m\n\u001b[0;32m    175\u001b[0m \u001b[39mdef\u001b[39;00m \u001b[39melse_body_4\u001b[39m():\n\u001b[0;32m    176\u001b[0m     \u001b[39mnonlocal\u001b[39;00m do_return, outputs, retval_\n\u001b[1;32m--> 177\u001b[0m     outputs \u001b[39m=\u001b[39m [ag__\u001b[39m.\u001b[39;49mconverted_call(ag__\u001b[39m.\u001b[39;49mld(fn), (ag__\u001b[39m.\u001b[39;49mld(arg),), \u001b[39mNone\u001b[39;49;00m, fscope) \u001b[39mfor\u001b[39;00m arg \u001b[39min\u001b[39;00m ag__\u001b[39m.\u001b[39mconverted_call(ag__\u001b[39m.\u001b[39mld(tf)\u001b[39m.\u001b[39munstack, (ag__\u001b[39m.\u001b[39mld(elems),), \u001b[39mNone\u001b[39;00m, fscope)]\n",
      "File \u001b[1;32m~\\AppData\\Local\\Temp\\__autograph_generated_filenaruwood.py:34\u001b[0m, in \u001b[0;36mouter_factory.<locals>.inner_factory.<locals>.tf__resize_image\u001b[1;34m(image, masks, new_height, new_width, method, align_corners)\u001b[0m\n\u001b[0;32m     32\u001b[0m retval_ \u001b[39m=\u001b[39m ag__\u001b[39m.\u001b[39mUndefinedReturnValue()\n\u001b[0;32m     33\u001b[0m \u001b[39mwith\u001b[39;00m ag__\u001b[39m.\u001b[39mld(tf)\u001b[39m.\u001b[39mname_scope(\u001b[39m'\u001b[39m\u001b[39mResizeImage\u001b[39m\u001b[39m'\u001b[39m, values\u001b[39m=\u001b[39m[ag__\u001b[39m.\u001b[39mld(image), ag__\u001b[39m.\u001b[39mld(new_height), ag__\u001b[39m.\u001b[39mld(new_width), ag__\u001b[39m.\u001b[39mld(method), ag__\u001b[39m.\u001b[39mld(align_corners)]):\n\u001b[1;32m---> 34\u001b[0m     new_image \u001b[39m=\u001b[39m ag__\u001b[39m.\u001b[39;49mconverted_call(ag__\u001b[39m.\u001b[39;49mld(tf)\u001b[39m.\u001b[39;49mimage\u001b[39m.\u001b[39;49mresize_images, (ag__\u001b[39m.\u001b[39;49mld(image), ag__\u001b[39m.\u001b[39;49mconverted_call(ag__\u001b[39m.\u001b[39;49mld(tf)\u001b[39m.\u001b[39;49mstack, ([ag__\u001b[39m.\u001b[39;49mld(new_height), ag__\u001b[39m.\u001b[39;49mld(new_width)],), \u001b[39mNone\u001b[39;49;00m, fscope)), \u001b[39mdict\u001b[39;49m(method\u001b[39m=\u001b[39;49mag__\u001b[39m.\u001b[39;49mld(method), align_corners\u001b[39m=\u001b[39;49mag__\u001b[39m.\u001b[39;49mld(align_corners)), fscope)\n\u001b[0;32m     35\u001b[0m     image_shape \u001b[39m=\u001b[39m ag__\u001b[39m.\u001b[39mconverted_call(ag__\u001b[39m.\u001b[39mld(shape_utils)\u001b[39m.\u001b[39mcombined_static_and_dynamic_shape, (ag__\u001b[39m.\u001b[39mld(image),), \u001b[39mNone\u001b[39;00m, fscope)\n\u001b[0;32m     36\u001b[0m     result \u001b[39m=\u001b[39m [ag__\u001b[39m.\u001b[39mld(new_image)]\n",
      "\u001b[1;31mValueError\u001b[0m: in user code:\n\n    File \"C:\\Users\\Harsha\\AppData\\Local\\Temp\\ipykernel_21084\\1511866559.py\", line 12, in detect_fn  *\n        image, shapes = detection_model.preprocess(image)\n    File \"c:\\Users\\Harsha\\Anaconda3\\envs\\min\\lib\\site-packages\\object_detection\\meta_architectures\\ssd_meta_arch.py\", line 484, in preprocess  *\n        normalized_inputs, self._image_resizer_fn)\n    File \"c:\\Users\\Harsha\\Anaconda3\\envs\\min\\lib\\site-packages\\object_detection\\utils\\shape_utils.py\", line 492, in resize_images_and_return_shapes  *\n        outputs = static_or_dynamic_map_fn(\n    File \"c:\\Users\\Harsha\\Anaconda3\\envs\\min\\lib\\site-packages\\object_detection\\utils\\shape_utils.py\", line 246, in static_or_dynamic_map_fn  *\n        outputs = [fn(arg) for arg in tf.unstack(elems)]\n    File \"c:\\Users\\Harsha\\Anaconda3\\envs\\min\\lib\\site-packages\\object_detection\\core\\preprocessor.py\", line 3327, in resize_image  *\n        new_image = tf.image.resize_images(\n\n    ValueError: 'images' must have either 3 or 4 dimensions.\n"
     ]
    },
    {
     "ename": "",
     "evalue": "",
     "output_type": "error",
     "traceback": [
      "The Kernel crashed while executing code in the the current cell or a previous cell. Please review the code in the cell(s) to identify a possible cause of the failure. Click <a href='https://aka.ms/vscodeJupyterKernelCrash'>here</a> for more info. View Jupyter <a href='command:jupyter.viewOutput'>log</a> for further details."
     ]
    }
   ],
   "source": [
    "while (True): \n",
    "    ret, frame = cap.read()\n",
    "    image_np = np.array(frame)\n",
    "    \n",
    "    input_tensor = tf.convert_to_tensor(np.expand_dims(image_np, 0), dtype=tf.float32)\n",
    "    detections = detect_fn(input_tensor)\n",
    "    \n",
    "    num_detections = int(detections.pop('num_detections'))\n",
    "    detections = {key: value[0, :num_detections].numpy()\n",
    "                  for key, value in detections.items()}\n",
    "    detections['num_detections'] = num_detections\n",
    "\n",
    "    # detection_classes should be ints.  object detection\n",
    "    detections['detection_classes'] = detections['detection_classes'].astype(np.int64)\n",
    "\n",
    "    label_id_offset = 1\n",
    "    image_np_with_detections = image_np.copy()\n",
    "\n",
    "    viz_utils.visualize_boxes_and_labels_on_image_array(\n",
    "                image_np_with_detections,\n",
    "                detections['detection_boxes'],\n",
    "                detections['detection_classes']+label_id_offset,\n",
    "                detections['detection_scores'],\n",
    "                category_index,\n",
    "                use_normalized_coordinates=True,\n",
    "                max_boxes_to_draw=1,\n",
    "                min_score_thresh=.3,\n",
    "                agnostic_mode=False)\n",
    "\n",
    "    cv2.imshow('SAILLE detection',  cv2.resize(image_np_with_detections, (800, 600)))\n",
    "   \n",
    "    if cv2.waitKey(1) & 0xFF == ord('q'):\n",
    "        cap.release()\n",
    "        break"
   ]
  },
  {
   "cell_type": "code",
   "execution_count": 21,
   "metadata": {},
   "outputs": [],
   "source": [
    "detections = detect_fn(input_tensor)"
   ]
  },
  {
   "cell_type": "code",
   "execution_count": 22,
   "metadata": {},
   "outputs": [
    {
     "ename": "",
     "evalue": "",
     "output_type": "error",
     "traceback": [
      "The Kernel crashed while executing code in the the current cell or a previous cell. Please review the code in the cell(s) to identify a possible cause of the failure. Click <a href='https://aka.ms/vscodeJupyterKernelCrash'>here</a> for more info. View Jupyter <a href='command:jupyter.viewOutput'>log</a> for further details."
     ]
    }
   ],
   "source": [
    "from matplotlib import pyplot as plt"
   ]
  }
 ],
 "metadata": {
  "kernelspec": {
   "display_name": "Python 3.10.4 ('min')",
   "language": "python",
   "name": "python3"
  },
  "language_info": {
   "codemirror_mode": {
    "name": "ipython",
    "version": 3
   },
   "file_extension": ".py",
   "mimetype": "text/x-python",
   "name": "python",
   "nbconvert_exporter": "python",
   "pygments_lexer": "ipython3",
   "version": "3.10.4"
  },
  "vscode": {
   "interpreter": {
    "hash": "04d5d56e4bf8519469a2387918291000258ba658a924f62d67a41fe604c8f3a8"
   }
  }
 },
 "nbformat": 4,
 "nbformat_minor": 2
}
